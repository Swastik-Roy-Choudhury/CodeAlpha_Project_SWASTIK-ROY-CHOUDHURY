{
  "nbformat": 4,
  "nbformat_minor": 0,
  "metadata": {
    "colab": {
      "provenance": []
    },
    "kernelspec": {
      "name": "python3",
      "display_name": "Python 3"
    },
    "language_info": {
      "name": "python"
    }
  },
  "cells": [
    {
      "cell_type": "markdown",
      "source": [
        "**NAME - SWASTIK ROY CHOUDHURY**\n",
        "\n",
        "**CODE ALPHA PYTHON PROGRAMMING INTERNSHIP TASKS.**"
      ],
      "metadata": {
        "id": "-71v4Yhm3uu9"
      }
    },
    {
      "cell_type": "markdown",
      "source": [
        "**TASK 1**\n",
        "\n",
        "**Hangman Game**\n",
        "\n",
        "Design a text-based Hangman game. The program selects a random word, and the player guesses one letter at a time to uncover the word. You can set a limit on the number of incorrect guesses allowed."
      ],
      "metadata": {
        "id": "XpL7n9jR3u5F"
      }
    },
    {
      "cell_type": "code",
      "execution_count": null,
      "metadata": {
        "id": "xekVQzhj3Egq",
        "colab": {
          "base_uri": "https://localhost:8080/"
        },
        "outputId": "07934b3b-6785-437e-ef9d-5883dd9ac03f"
      },
      "outputs": [
        {
          "output_type": "stream",
          "name": "stdout",
          "text": [
            "Clue: A natural elevation of the earth's surface\n",
            "\n",
            "The word to guess has 8 letters.\n",
            "\n",
            "Word: _ _ _ _ _ _ _ _\n",
            "Guess a letter: m\n",
            "Good guess! 'm' is in the word.\n",
            "\n",
            "Word: m _ _ _ _ _ _ _\n",
            "Guess a letter: o\n",
            "Good guess! 'o' is in the word.\n",
            "\n",
            "Word: m o _ _ _ _ _ _\n",
            "Guess a letter: u\n",
            "Good guess! 'u' is in the word.\n",
            "\n",
            "Word: m o u _ _ _ _ _\n",
            "Guess a letter: n\n",
            "Good guess! 'n' is in the word.\n",
            "\n",
            "Word: m o u n _ _ _ n\n",
            "Guess a letter: t\n",
            "Good guess! 't' is in the word.\n",
            "\n",
            "Word: m o u n t _ _ n\n",
            "Guess a letter: a\n",
            "Good guess! 'a' is in the word.\n",
            "\n",
            "Word: m o u n t a _ n\n",
            "Guess a letter: i\n",
            "Good guess! 'i' is in the word.\n",
            "\n",
            "Congratulations! You've guessed the word: mountain\n"
          ]
        }
      ],
      "source": [
        "import random\n",
        "\n",
        "# List of words and corresponding clues\n",
        "words_and_clues = [\n",
        "    (\"python\", \"A popular programming language\"),\n",
        "    (\"elephant\", \"The largest land animal\"),\n",
        "    (\"guitar\", \"A stringed musical instrument\"),\n",
        "    (\"ocean\", \"A large body of saltwater\"),\n",
        "    (\"mountain\", \"A natural elevation of the earth's surface\"),\n",
        "    (\"jupiter\", \"The largest planet in our solar system\")\n",
        "]\n",
        "\n",
        "# Function to display the current state of the word\n",
        "def display_word(word, guessed_letters):\n",
        "    return ' '.join([letter if letter in guessed_letters else '_' for letter in word])\n",
        "\n",
        "# Main hangman game function\n",
        "def hangman_game():\n",
        "    word, clue = random.choice(words_and_clues)  # Randomly select a word and its clue\n",
        "\n",
        "    guessed_letters = []\n",
        "    incorrect_guesses = 0\n",
        "    max_incorrect_guesses = 6  # Number of allowed incorrect guesses\n",
        "\n",
        "    print(f\"Clue: {clue}\")\n",
        "    print(f\"\\nThe word to guess has {len(word)} letters.\")\n",
        "\n",
        "    while incorrect_guesses < max_incorrect_guesses:\n",
        "        print(\"\\nWord:\", display_word(word, guessed_letters))\n",
        "\n",
        "        # Get user guess\n",
        "        guess = input(\"Guess a letter: \").lower()\n",
        "\n",
        "        # Validate user input\n",
        "        if len(guess) != 1 or not guess.isalpha():\n",
        "            print(\"Please enter a single alphabetic letter.\")\n",
        "            continue\n",
        "\n",
        "        # Check if the guess is correct\n",
        "        if guess in word:\n",
        "            if guess in guessed_letters:\n",
        "                print(f\"You already guessed '{guess}'.\")\n",
        "            else:\n",
        "                guessed_letters.append(guess)\n",
        "                print(f\"Good guess! '{guess}' is in the word.\")\n",
        "        else:\n",
        "            incorrect_guesses += 1\n",
        "            print(f\"Sorry, '{guess}' is not in the word. Incorrect guesses left: {max_incorrect_guesses - incorrect_guesses}\")\n",
        "\n",
        "        # Check if the player has guessed the word\n",
        "        if all(letter in guessed_letters for letter in word):\n",
        "            print(\"\\nCongratulations! You've guessed the word:\", word)\n",
        "            break\n",
        "    else:\n",
        "        print(\"\\nYou've run out of guesses! The word was:\", word)\n",
        "\n",
        "# Run the hangman game\n",
        "hangman_game()"
      ]
    },
    {
      "cell_type": "markdown",
      "source": [
        "**TASK 2**\n",
        "\n",
        "**Stock Portfolio Tracker**\n",
        "\n",
        "Create a stock portfolio tracking tool that allows users to add, remove, and track the performance of their stock investments. Utilize financial APIs for real-time stock data."
      ],
      "metadata": {
        "id": "Abfidu0B5hWP"
      }
    },
    {
      "cell_type": "code",
      "source": [
        "import yfinance as yf\n",
        "import pandas as pd\n",
        "\n",
        "class StockPortfolioTracker:\n",
        "    def __init__(self):\n",
        "        self.portfolio = pd.DataFrame(columns=['Ticker', 'Shares', 'Purchase Price'])\n",
        "\n",
        "    def add_stock(self, ticker, shares, purchase_price):\n",
        "        # Fetch stock data\n",
        "        stock_data = yf.Ticker(ticker)\n",
        "        current_price = stock_data.history(period=\"1d\")['Close'].iloc[-1]\n",
        "\n",
        "        # Check if stock is already in portfolio\n",
        "        if ticker in self.portfolio['Ticker'].values:\n",
        "            print(f\"{ticker} is already in the portfolio.\")\n",
        "        else:\n",
        "            # Add stock to portfolio\n",
        "            new_stock = pd.DataFrame([[ticker, shares, purchase_price]], columns=['Ticker', 'Shares', 'Purchase Price'])\n",
        "            self.portfolio = pd.concat([self.portfolio, new_stock], ignore_index=True)\n",
        "            print(f\"Added {ticker} to portfolio.\")\n",
        "\n",
        "        self.display_portfolio()\n",
        "\n",
        "    def remove_stock(self, ticker):\n",
        "        if ticker in self.portfolio['Ticker'].values:\n",
        "            self.portfolio = self.portfolio[self.portfolio['Ticker'] != ticker]\n",
        "            print(f\"Removed {ticker} from portfolio.\")\n",
        "        else:\n",
        "            print(f\"{ticker} not found in the portfolio.\")\n",
        "\n",
        "        self.display_portfolio()\n",
        "\n",
        "    def update_stock_price(self, ticker):\n",
        "        stock_data = yf.Ticker(ticker)\n",
        "        current_price = stock_data.history(period=\"1d\")['Close'].iloc[-1]\n",
        "        return current_price\n",
        "\n",
        "    def track_portfolio(self):\n",
        "        if self.portfolio.empty:\n",
        "            print(\"Portfolio is empty.\")\n",
        "            return\n",
        "\n",
        "        self.portfolio['Current Price'] = self.portfolio['Ticker'].apply(self.update_stock_price)\n",
        "        self.portfolio['Value'] = self.portfolio['Shares'] * self.portfolio['Current Price']\n",
        "        self.portfolio['Gain/Loss'] = (self.portfolio['Current Price'] - self.portfolio['Purchase Price']) * self.portfolio['Shares']\n",
        "\n",
        "        print(\"\\nPortfolio Performance:\")\n",
        "        print(self.portfolio)\n",
        "\n",
        "    def display_portfolio(self):\n",
        "        print(\"\\nCurrent Portfolio:\")\n",
        "        print(self.portfolio)\n",
        "\n",
        "# Usage\n",
        "portfolio = StockPortfolioTracker()\n",
        "portfolio.add_stock('AAPL', 10, 150)  # Example stock\n",
        "portfolio.add_stock('TSLA', 5, 700)   # Example stock\n",
        "portfolio.track_portfolio()\n",
        "portfolio.remove_stock('AAPL')\n",
        "portfolio.track_portfolio()\n"
      ],
      "metadata": {
        "id": "cBrCR1kB5h2V",
        "colab": {
          "base_uri": "https://localhost:8080/"
        },
        "outputId": "4a52b8c9-25db-4d54-8d8a-4b90e6f06f56"
      },
      "execution_count": null,
      "outputs": [
        {
          "output_type": "stream",
          "name": "stdout",
          "text": [
            "Added AAPL to portfolio.\n",
            "\n",
            "Current Portfolio:\n",
            "  Ticker Shares Purchase Price\n",
            "0   AAPL     10            150\n",
            "Added TSLA to portfolio.\n",
            "\n",
            "Current Portfolio:\n",
            "  Ticker Shares Purchase Price\n",
            "0   AAPL     10            150\n",
            "1   TSLA      5            700\n",
            "\n",
            "Portfolio Performance:\n",
            "  Ticker Shares Purchase Price  Current Price        Value    Gain/Loss\n",
            "0   AAPL     10            150     216.464996  2164.649963   664.649963\n",
            "1   TSLA      5            700     227.598099  1137.990494 -2362.009506\n",
            "Removed AAPL from portfolio.\n",
            "\n",
            "Current Portfolio:\n",
            "  Ticker Shares Purchase Price  Current Price        Value    Gain/Loss\n",
            "1   TSLA      5            700     227.598099  1137.990494 -2362.009506\n",
            "\n",
            "Portfolio Performance:\n",
            "  Ticker Shares Purchase Price  Current Price        Value    Gain/Loss\n",
            "1   TSLA      5            700     227.598099  1137.990494 -2362.009506\n"
          ]
        }
      ]
    },
    {
      "cell_type": "markdown",
      "source": [
        "**TASK 3**\n",
        "\n",
        "**Basic Chatbot**\n",
        "\n",
        "Create a text-based chatbot that can have conversations with users. You can use natural language processing libraries like NLTK or spaCy to make your chatbot more conversational."
      ],
      "metadata": {
        "id": "GsNW0bFS5iMI"
      }
    },
    {
      "cell_type": "code",
      "source": [
        "import nltk\n",
        "from nltk.chat.util import Chat, reflections\n",
        "\n",
        "# Download necessary resources\n",
        "nltk.download('punkt')\n",
        "\n",
        "# Define chatbot patterns and responses\n",
        "pairs = [\n",
        "    (r\"hi|hello|hey\", [\"Hello! How can I help you today?\", \"Hi there! What can I do for you?\"]),\n",
        "    (r\"my name is (.*)\", [\"Hello %1, nice to meet you!\"]),\n",
        "    (r\"what is your name?\", [\"I am Zoro a chatbot created to assist you.\"]),\n",
        "    (r\"how are you?\", [\"Fine! I'm just a computer program, but I'm here to help you!\"]),\n",
        "    (r\"sorry (.*)\", [\"No problem! How can I assist you further?\"]),\n",
        "    (r\"quit\", [\"Goodbye! Have a great day!\"]),\n",
        "    (r\"(.*)\", [\"I'm not sure how to respond to that. Can you rephrase?\"])\n",
        "]\n",
        "\n",
        "# Create the chatbot\n",
        "chatbot = Chat(pairs, reflections)\n",
        "\n",
        "# Function to start the chatbot\n",
        "def start_chatbot():\n",
        "    print(\"Hi! I'm your chatbot. Type 'quit' to end the conversation.\")\n",
        "    while True:\n",
        "        user_input = input(\"You: \")\n",
        "        response = chatbot.respond(user_input)\n",
        "        print(f\"Chatbot: {response}\")\n",
        "        if user_input.lower() == \"quit\":\n",
        "            break\n",
        "\n",
        "# Run the chatbot\n",
        "start_chatbot()\n"
      ],
      "metadata": {
        "id": "F9KyXjId5iY2",
        "colab": {
          "base_uri": "https://localhost:8080/"
        },
        "outputId": "30eebd86-27a0-45e6-bccc-4cc5d8f1f66c"
      },
      "execution_count": null,
      "outputs": [
        {
          "output_type": "stream",
          "name": "stderr",
          "text": [
            "[nltk_data] Downloading package punkt to /root/nltk_data...\n",
            "[nltk_data]   Package punkt is already up-to-date!\n"
          ]
        },
        {
          "output_type": "stream",
          "name": "stdout",
          "text": [
            "Hi! I'm your chatbot. Type 'quit' to end the conversation.\n",
            "You: Hi\n",
            "Chatbot: Hello! How can I help you today?\n",
            "You: My name is Swastik\n",
            "Chatbot: Hello swastik, nice to meet you!\n",
            "You: What is your name?\n",
            "Chatbot: I am Zoro a chatbot created to assist you.\n",
            "You: Quit\n",
            "Chatbot: Goodbye! Have a great day!\n"
          ]
        }
      ]
    },
    {
      "cell_type": "markdown",
      "source": [
        "**TASK 4**\n",
        "\n",
        "**Task Automation with Python Scripts**\n",
        "\n",
        "Identify a repetitive task in your workflow and create Python scripts to automate it. This could include tasks like file organization, data cleaning, or system maintenance."
      ],
      "metadata": {
        "id": "6UB5cM5p5ikE"
      }
    },
    {
      "cell_type": "code",
      "source": [
        "import os\n",
        "import shutil\n",
        "\n",
        "# Create sample files for demonstration\n",
        "def create_sample_files(base_dir):\n",
        "    if not os.path.exists(base_dir):\n",
        "        os.makedirs(base_dir)\n",
        "\n",
        "    sample_files = [\n",
        "        (\"document1.txt\", \"This is a text document.\"),\n",
        "        (\"document2.docx\", \"This is a Word document.\"),\n",
        "        (\"spreadsheet.xlsx\", \"This is an Excel file.\"),\n",
        "        (\"image1.jpg\", \"This is a JPEG image.\"),\n",
        "        (\"image2.png\", \"This is a PNG image.\"),\n",
        "        (\"presentation.pptx\", \"This is a PowerPoint presentation.\")\n",
        "    ]\n",
        "\n",
        "    for filename, content in sample_files:\n",
        "        with open(os.path.join(base_dir, filename), 'w') as file:\n",
        "            file.write(content)\n",
        "\n",
        "# Create the sample files\n",
        "create_sample_files('sample_files')\n",
        "\n",
        "# Function to organize files\n",
        "def organize_files(directory):\n",
        "    if not os.path.exists(directory):\n",
        "        print(\"Directory does not exist.\")\n",
        "        return\n",
        "\n",
        "    for filename in os.listdir(directory):\n",
        "        file_path = os.path.join(directory, filename)\n",
        "        if os.path.isfile(file_path):\n",
        "            file_extension = filename.split('.')[-1]\n",
        "            folder = os.path.join(directory, file_extension)\n",
        "\n",
        "            if not os.path.exists(folder):\n",
        "                os.makedirs(folder)\n",
        "\n",
        "            shutil.move(file_path, os.path.join(folder, filename))\n",
        "    print(\"Files have been organized.\")\n",
        "\n",
        "# Organize the files\n",
        "organize_files('sample_files')\n"
      ],
      "metadata": {
        "id": "tgcyIW-rBbsM",
        "colab": {
          "base_uri": "https://localhost:8080/"
        },
        "outputId": "eff0706b-e66a-40cc-e06a-e52b4e21bfc7"
      },
      "execution_count": null,
      "outputs": [
        {
          "output_type": "stream",
          "name": "stdout",
          "text": [
            "Files have been organized.\n"
          ]
        }
      ]
    },
    {
      "cell_type": "code",
      "source": [
        "\n",
        "\n",
        "import os\n",
        "import shutil\n",
        "\n",
        "# Create sample files for demonstration\n",
        "def create_sample_files(base_dir):\n",
        "    if not os.path.exists(base_dir):\n",
        "        os.makedirs(base_dir)\n",
        "\n",
        "    sample_files = [\n",
        "        (\"document1.txt\", \"This is a text document.\"),\n",
        "        (\"document2.docx\", \"This is a Word document.\"),\n",
        "        (\"spreadsheet.xlsx\", \"This is an Excel file.\"),\n",
        "        (\"image1.jpg\", \"This is a JPEG image.\"),\n",
        "        (\"image2.png\", \"This is a PNG image.\"),\n",
        "        (\"presentation.pptx\", \"This is a PowerPoint presentation.\")\n",
        "    ]\n",
        "\n",
        "    for filename, content in sample_files:\n",
        "        with open(os.path.join(base_dir, filename), 'w') as file:\n",
        "            file.write(content)\n",
        "\n",
        "create_sample_files('sample_files')\n",
        "def organize_files(directory):\n",
        "    if not os.path.exists(directory):\n",
        "        print(\"Directory does not exist.\")\n",
        "        return\n",
        "\n",
        "    for filename in os.listdir(directory):\n",
        "        file_path = os.path.join(directory, filename)\n",
        "        if os.path.isfile(file_path):\n",
        "            file_extension = filename.split('.')[-1]\n",
        "            folder = os.path.join(directory, file_extension)\n",
        "\n",
        "            if not os.path.exists(folder):\n",
        "                os.makedirs(folder)\n",
        "\n",
        "            shutil.move(file_path, os.path.join(folder, filename))\n",
        "    print(\"Files have been organized.\")\n",
        "\n",
        "# Specify the directory to organize\n",
        "directory = 'sample_files'\n",
        "organize_files(directory)\n"
      ],
      "metadata": {
        "id": "n-IkUPn9Ej6j",
        "colab": {
          "base_uri": "https://localhost:8080/"
        },
        "outputId": "c65b423e-b5b2-4434-e795-f497559d3eee"
      },
      "execution_count": null,
      "outputs": [
        {
          "output_type": "stream",
          "name": "stdout",
          "text": [
            "Files have been organized.\n"
          ]
        }
      ]
    },
    {
      "cell_type": "code",
      "source": [
        "\n",
        "\n",
        "import os\n",
        "import shutil\n",
        "\n",
        "# Create sample files for demonstration\n",
        "def create_sample_files(base_dir):\n",
        "    if not os.path.exists(base_dir):\n",
        "        os.makedirs(base_dir)\n",
        "\n",
        "    sample_files = [\n",
        "        (\"document1.txt\", \"This is a text document.\"),\n",
        "        (\"document2.docx\", \"This is a Word document.\"),\n",
        "        (\"spreadsheet.xlsx\", \"This is an Excel file.\"),\n",
        "        (\"image1.jpg\", \"This is a JPEG image.\"),\n",
        "        (\"image2.png\", \"This is a PNG image.\"),\n",
        "        (\"presentation.pptx\", \"This is a PowerPoint presentation.\")\n",
        "    ]\n",
        "\n",
        "    for filename, content in sample_files:\n",
        "        with open(os.path.join(base_dir, filename), 'w') as file:\n",
        "            file.write(content)\n",
        "\n",
        "# Create the sample files\n",
        "create_sample_files('sample_files')\n",
        "\n",
        "# Function to organize files\n",
        "def organize_files(directory):\n",
        "    if not os.path.exists(directory):\n",
        "        print(\"Directory does not exist.\")\n",
        "        return\n",
        "\n",
        "    for filename in os.listdir(directory):\n",
        "        file_path = os.path.join(directory, filename)\n",
        "        if os.path.isfile(file_path):\n",
        "            file_extension = filename.split('.')[-1]\n",
        "            folder = os.path.join(directory, file_extension)\n",
        "\n",
        "            if not os.path.exists(folder):\n",
        "                os.makedirs(folder)\n",
        "\n",
        "            shutil.move(file_path, os.path.join(folder, filename))\n",
        "    print(\"Files have been organized.\")\n",
        "\n",
        "# Organize the files\n",
        "organize_files('sample_files')\n"
      ],
      "metadata": {
        "id": "Hw-QvINLEkB0",
        "colab": {
          "base_uri": "https://localhost:8080/"
        },
        "outputId": "fb554297-5c70-46b7-ee7a-34dc6b7e6550"
      },
      "execution_count": null,
      "outputs": [
        {
          "output_type": "stream",
          "name": "stdout",
          "text": [
            "Files have been organized.\n"
          ]
        }
      ]
    }
  ]
}